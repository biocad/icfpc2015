{
 "cells": [
  {
   "cell_type": "code",
   "execution_count": 48,
   "metadata": {
    "collapsed": false
   },
   "outputs": [
    {
     "data": {
      "text/plain": [
       "2"
      ]
     },
     "execution_count": 48,
     "metadata": {},
     "output_type": "execute_result"
    }
   ],
   "source": [
    "import json\n",
    "import subprocess\n",
    "import datetime\n",
    "\n",
    "def get_output(problem_id, tag, seed, solution):\n",
    "    return json.dumps([\n",
    "        {\"problemId\": problem_id,\n",
    "         \"seed\":      seed,\n",
    "         \"tag\":       tag,\n",
    "         \"solution\":  json.dumps(solution)\n",
    "        }\n",
    "    ])\n",
    "\n",
    "\n",
    "def get_command(output):\n",
    "    token = ':ks+hAQFER1s/h24dNLBVNMiirhCZDoSTtOvsVbbbykA='\n",
    "    submission_url = 'https://davar.icfpcontest.org/teams/24/solutions'\n",
    "    header = 'Content-Type: application/json'\n",
    "    command = ['curl', '--user', token, '-X', 'POST', '-H', header, '-d', output, submission_url]\n",
    "    return command\n",
    "\n",
    "def check_status():\n",
    "    token = ':ks+hAQFER1s/h24dNLBVNMiirhCZDoSTtOvsVbbbykA='\n",
    "    submission_url = 'https://davar.icfpcontest.org/teams/24/solutions'\n",
    "    header = 'Content-Type: application/json'\n",
    "    command = ['curl', '--user', token, '-X', 'GET', '-H', header, '-d', submission_url]\n",
    "    return command\n",
    "\n",
    "def send_six():\n",
    "    pid = 6\n",
    "    seed = 0\n",
    "    tag = 'simple 45'\n",
    "    solution = 'iiiiiiimimiiiiiimmimiiiimimimmimimimimmeemmimimiimmmmimmimiimimimmimmimeee \\\n",
    "    mmmimimmimeeemiimiimimimiiiipimiimimmmmeemimeemimimimmmmemimmimmmiiimmmiii \\\n",
    "    piimiiippiimmmeemimiipimmimmipppimmimeemeemimiieemimmmm'\n",
    "    output = get_output(pid, seed, tag, solution)\n",
    "    comm = get_command(output)\n",
    "    print subprocess.check_output(comm)\n",
    "\n",
    "pid = 0\n",
    "seed = 0\n",
    "s = ''\n",
    "\n",
    "# i = 120\n",
    "# if i < 160:\n",
    "#     if i % 2 == 0:\n",
    "#         s += '4'\n",
    "#     else:\n",
    "#         s += '5'\n",
    "#     tag = str(datetime.datetime.now().time())\n",
    "#     print([s, tag])\n",
    "#     output = get_output(pid, tag, seed, s)\n",
    "#     comm = get_command(output)\n",
    "#     subprocess.check_output(comm)\n",
    "#     s\n",
    "\n",
    "subprocess.call(check_status())"
   ]
  },
  {
   "cell_type": "code",
   "execution_count": null,
   "metadata": {
    "collapsed": true
   },
   "outputs": [],
   "source": []
  },
  {
   "cell_type": "code",
   "execution_count": null,
   "metadata": {
    "collapsed": true
   },
   "outputs": [],
   "source": []
  }
 ],
 "metadata": {
  "kernelspec": {
   "display_name": "Python 2",
   "language": "python",
   "name": "python2"
  }
 },
 "nbformat": 4,
 "nbformat_minor": 0
}
